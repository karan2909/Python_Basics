{
 "cells": [
  {
   "cell_type": "markdown",
   "metadata": {},
   "source": [
    "## Random no. generator SQL vs Pandas"
   ]
  },
  {
   "cell_type": "code",
   "execution_count": 1,
   "metadata": {},
   "outputs": [],
   "source": [
    "query = \"\"\"Select rowid from fecdata\n",
    "            order by random() limit 5\"\"\"\n",
    "\n",
    "query = \"\"\"Select * from fecdata where rowid in (Select rowid from fecdata\n",
    "            order by random() limit 5)\"\"\"\n",
    "\n",
    "#Same in Pandas \n",
    "#df.sample(5)"
   ]
  },
  {
   "cell_type": "markdown",
   "metadata": {},
   "source": [
    "## Describe vs Sql group by"
   ]
  },
  {
   "cell_type": "code",
   "execution_count": 5,
   "metadata": {},
   "outputs": [],
   "source": [
    "#fecdata['contb_receipt_amt'].describe()\n",
    "\n",
    "\n",
    "# pd.read_sql(\"\"\"\n",
    "# SELECT COUNT(*), AVG(contb_receipt_amt), MIN(contb_receipt_amt), MAX(contb_receipt_amt)\n",
    "#     FROM fecdata\n",
    "# \"\"\", fecconn)"
   ]
  },
  {
   "cell_type": "markdown",
   "metadata": {},
   "source": [
    "## Unique values "
   ]
  },
  {
   "cell_type": "code",
   "execution_count": 6,
   "metadata": {},
   "outputs": [],
   "source": [
    "# df['col'].unique() ## this will return array\n",
    "\n",
    "# pd.read_sql(\"Select distinct col from table\",fecconn) this will return a dataframe if need array\n",
    "\n",
    "# pd.read_sql(\"Select distinct col from table\",fecconn)['col'].values ## this will return array"
   ]
  },
  {
   "cell_type": "markdown",
   "metadata": {},
   "source": [
    "## Mapping (defining col. based on already existing col.)"
   ]
  },
  {
   "cell_type": "code",
   "execution_count": 7,
   "metadata": {},
   "outputs": [],
   "source": [
    "## Pandas"
   ]
  },
  {
   "cell_type": "code",
   "execution_count": 9,
   "metadata": {},
   "outputs": [],
   "source": [
    "# party_affiliations = {name: 'D' if name == 'Obama, Barack' else 'R' for name in unique_candidates}\n",
    "# party_affiliations\n",
    "\n",
    "# candidate_sample = fecdata['cand_nm'].sample(5)\n",
    "# candidate_sample\n",
    "\n",
    "# candidate_sample.map(party_affiliations)\n",
    "# fecdata['party'] = fecdata['cand_nm'].map(party_affiliations)"
   ]
  },
  {
   "cell_type": "code",
   "execution_count": 10,
   "metadata": {},
   "outputs": [],
   "source": [
    "## Sql\n",
    "# SELECT\n",
    "#    ... (column value expressions) ...,\n",
    "#    CASE column_value_expression\n",
    "#        WHEN value0 THEN result0\n",
    "#        WHEN value1 THEN result1\n",
    "#        ...\n",
    "#    END AS result_column_name,\n",
    "#    ... (other column value expressions) ...\n",
    "#    FROM\n",
    "#        ..."
   ]
  },
  {
   "cell_type": "code",
   "execution_count": 11,
   "metadata": {},
   "outputs": [],
   "source": [
    "# when_clauses = ' '.join([f'WHEN \"{name}\" THEN \"{party}\"' for name, party in party_affiliations.items()])\n",
    "# query = f\"SELECT cand_nm, CASE cand_nm {when_clauses} END AS party FROM fecdata\"\n",
    "# pd.read_sql(query, fecconn)"
   ]
  },
  {
   "cell_type": "markdown",
   "metadata": {},
   "source": [
    "## Group by "
   ]
  },
  {
   "cell_type": "code",
   "execution_count": 12,
   "metadata": {},
   "outputs": [],
   "source": [
    "#fecdata.groupby('party')['contb_receipt_amt'].sum() # millions of dollars\n",
    "# SELECT party, sum(contb_receipt_amt)*1e-6 FROM fecdata GROUP BY party"
   ]
  },
  {
   "cell_type": "markdown",
   "metadata": {},
   "source": [
    "## Value_Counts"
   ]
  },
  {
   "cell_type": "code",
   "execution_count": 13,
   "metadata": {},
   "outputs": [],
   "source": [
    "# fecdata.groupby('party')['party'].count()\n",
    "# fecdata['party'].value_counts()"
   ]
  },
  {
   "cell_type": "markdown",
   "metadata": {},
   "source": [
    "## Mapping incorrect names to correct names in Pandas  Very imp. map with get"
   ]
  },
  {
   "cell_type": "code",
   "execution_count": 14,
   "metadata": {},
   "outputs": [],
   "source": [
    "# https://colab.research.google.com/drive/104Vxx-76A0MmPqrZ-pBe3j0HjobbJS7a?usp=sharing#scrollTo=dvNFVWzqaGDJ\n",
    "\n",
    "#len(fecmain['contbr_occupation'].unique()) ## 33006 33k unique values in occupation\n",
    "# # fecmain['contbr_occupation'].value_counts() - need to club some values\n",
    "\n",
    "# occ_mapping = {'INFORMATION REQUESTED': 'NOT PROVIDED',\n",
    "#                'INFORMATION REQUESTED PER BEST EFFORTS': 'NOT PROVIDED',\n",
    "#                'INFORMATION REQUESTED (BEST EFFORTS)': 'NOT PROVIDED',\n",
    "#                'C.E.O.': 'CEO'}\n",
    "\n",
    "#fecmain['contbr_occupation'].map(occ_mapping) ## this will give na for other keys\n",
    "\n",
    "## to rectify this use get\n",
    "## fecmain['contbr_occupation'] = fecmain['contbr_occupation'].map(lambda x: occ_mapping.get(x, x))\n"
   ]
  },
  {
   "cell_type": "code",
   "execution_count": 15,
   "metadata": {},
   "outputs": [],
   "source": [
    "### Same is sql\n",
    "## Select col., case when col in ('info..') then X when col in... else col end as modified_col from table"
   ]
  },
  {
   "cell_type": "markdown",
   "metadata": {},
   "source": [
    "## Pivot table sql (FILTER) vs Pandas"
   ]
  },
  {
   "cell_type": "code",
   "execution_count": 16,
   "metadata": {},
   "outputs": [],
   "source": [
    "# by_occ = fecmain.pivot_table('contb_receipt_amt', index='contbr_occupation', columns='party',\n",
    "#                              aggfunc='sum')\n",
    "# by_occ.sample(5)\n",
    "\n",
    "\n",
    "## Pivot in sql\n",
    "# query = \"\"\"\n",
    "# SELECT contbr_occupation,\n",
    "#        SUM(contb_receipt_amt) FILTER (WHERE cand_nm = 'Obama, Barack') AS D,\n",
    "#        SUM(contb_receipt_amt) FILTER (WHERE cand_nm = 'Romney, Mitt') AS R\n",
    "# FROM fecdata\n",
    "# GROUP BY contbr_occupation\n",
    "# \"\"\"\n",
    "# pd.read_sql_query(query, fecconn).sample(3)"
   ]
  },
  {
   "cell_type": "markdown",
   "metadata": {},
   "source": [
    "## Sorting"
   ]
  },
  {
   "cell_type": "code",
   "execution_count": 17,
   "metadata": {},
   "outputs": [],
   "source": [
    "# over_1mil.sum(axis=1).sort_values()\n",
    "# query = \"\"\"\n",
    "# SELECT contbr_occupation,\n",
    "#        SUM(contb_receipt_amt*1e-6) FILTER (WHERE cand_nm = 'Obama, Barack') AS D,\n",
    "#        SUM(contb_receipt_amt*1e-6) FILTER (WHERE cand_nm = 'Romney, Mitt') AS R\n",
    "# FROM fecdata\n",
    "# GROUP BY contbr_occupation\n",
    "# HAVING D >= 1\n",
    "# ORDER BY D DESC\n",
    "# LIMIT 10\n",
    "# \"\"\"\n",
    "# pd.read_sql_query(query, fecconn)"
   ]
  },
  {
   "cell_type": "markdown",
   "metadata": {},
   "source": [
    "## Ranking"
   ]
  },
  {
   "cell_type": "code",
   "execution_count": 21,
   "metadata": {},
   "outputs": [],
   "source": [
    "# grouped = fecmain.groupby('cand_nm')\n",
    "# grouped['contb_receipt_amt'].nlargest(3)\n",
    "\n",
    "# def top_amounts_by_occupation(df, n=5):\n",
    "#     totals = df.groupby('contbr_occupation')['contb_receipt_amt'].sum()\n",
    "#     return totals.nlargest(n)\n",
    "\n",
    "# top_amounts_by_occupation(fecmain)\n",
    "#grouped.apply(top_amounts_by_occupation, n=10)"
   ]
  },
  {
   "cell_type": "markdown",
   "metadata": {},
   "source": [
    "## Binning"
   ]
  },
  {
   "cell_type": "code",
   "execution_count": 26,
   "metadata": {},
   "outputs": [],
   "source": [
    "#For each of the leading two candidates, did most of their money come from large or small donations?"
   ]
  },
  {
   "cell_type": "code",
   "execution_count": 22,
   "metadata": {},
   "outputs": [
    {
     "data": {
      "text/plain": [
       "[0, 1, 10, 100, 1000, 10000, 100000, 1000000, 10000000]"
      ]
     },
     "execution_count": 22,
     "metadata": {},
     "output_type": "execute_result"
    }
   ],
   "source": [
    "bins = [0] + [10**k for k in range(0, 8)]\n",
    "bins"
   ]
  },
  {
   "cell_type": "code",
   "execution_count": 24,
   "metadata": {},
   "outputs": [],
   "source": [
    "# labels = pd.cut(fecmain['contb_receipt_amt'], bins, right=False)\n",
    "# labels[:5]"
   ]
  },
  {
   "cell_type": "code",
   "execution_count": 25,
   "metadata": {},
   "outputs": [],
   "source": [
    "# grouped = fecmain.groupby(['cand_nm', labels])\n",
    "# grouped.size()"
   ]
  },
  {
   "cell_type": "code",
   "execution_count": null,
   "metadata": {},
   "outputs": [],
   "source": []
  }
 ],
 "metadata": {
  "kernelspec": {
   "display_name": "Python 3",
   "language": "python",
   "name": "python3"
  },
  "language_info": {
   "codemirror_mode": {
    "name": "ipython",
    "version": 3
   },
   "file_extension": ".py",
   "mimetype": "text/x-python",
   "name": "python",
   "nbconvert_exporter": "python",
   "pygments_lexer": "ipython3",
   "version": "3.8.3"
  }
 },
 "nbformat": 4,
 "nbformat_minor": 4
}
