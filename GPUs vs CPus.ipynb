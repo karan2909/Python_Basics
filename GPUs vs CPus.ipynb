{
 "cells": [
  {
   "cell_type": "code",
   "execution_count": 4,
   "metadata": {},
   "outputs": [
    {
     "name": "stdout",
     "output_type": "stream",
     "text": [
      "^C\n"
     ]
    }
   ],
   "source": [
    "!pip install torch"
   ]
  },
  {
   "cell_type": "code",
   "execution_count": 8,
   "metadata": {},
   "outputs": [],
   "source": [
    "#import torch"
   ]
  },
  {
   "cell_type": "code",
   "execution_count": 6,
   "metadata": {},
   "outputs": [
    {
     "name": "stdout",
     "output_type": "stream",
     "text": [
      "Collecting torch\n",
      "  Downloading torch-2.0.1-cp38-cp38-win_amd64.whl (172.4 MB)\n",
      "Requirement already satisfied: typing-extensions in c:\\users\\nahar\\anaconda3\\lib\\site-packages (from torch) (3.7.4.2)\n",
      "Requirement already satisfied: filelock in c:\\users\\nahar\\anaconda3\\lib\\site-packages (from torch) (3.0.12)\n",
      "Requirement already satisfied: sympy in c:\\users\\nahar\\anaconda3\\lib\\site-packages (from torch) (1.6.1)\n",
      "Requirement already satisfied: jinja2 in c:\\users\\nahar\\anaconda3\\lib\\site-packages (from torch) (2.11.2)\n",
      "Requirement already satisfied: networkx in c:\\users\\nahar\\anaconda3\\lib\\site-packages (from torch) (2.4)\n",
      "Requirement already satisfied: mpmath>=0.19 in c:\\users\\nahar\\anaconda3\\lib\\site-packages (from sympy->torch) (1.1.0)\n",
      "Requirement already satisfied: MarkupSafe>=0.23 in c:\\users\\nahar\\anaconda3\\lib\\site-packages (from jinja2->torch) (1.1.1)\n",
      "Requirement already satisfied: decorator>=4.3.0 in c:\\users\\nahar\\anaconda3\\lib\\site-packages (from networkx->torch) (4.4.2)\n",
      "Installing collected packages: torch\n",
      "Successfully installed torch-2.0.1\n"
     ]
    },
    {
     "name": "stderr",
     "output_type": "stream",
     "text": [
      "ERROR: Could not install packages due to an EnvironmentError: [WinError 5] Access is denied: 'C:\\\\Users\\\\nahar\\\\anaconda3\\\\Lib\\\\site-packages\\\\torch\\\\include\\\\ATen\\\\ops\\\\_test_ambiguous_defaults.h'\n",
      "Consider using the `--user` option or check the permissions.\n",
      "\n"
     ]
    },
    {
     "name": "stdout",
     "output_type": "stream",
     "text": [
      "Collecting torch\n",
      "  Using cached torch-2.0.1-cp38-cp38-win_amd64.whl (172.4 MB)\n",
      "Requirement already satisfied: sympy in c:\\users\\nahar\\anaconda3\\lib\\site-packages (from torch) (1.6.1)\n",
      "Requirement already satisfied: typing-extensions in c:\\users\\nahar\\anaconda3\\lib\\site-packages (from torch) (3.7.4.2)\n",
      "Requirement already satisfied: networkx in c:\\users\\nahar\\anaconda3\\lib\\site-packages (from torch) (2.4)\n",
      "Requirement already satisfied: jinja2 in c:\\users\\nahar\\anaconda3\\lib\\site-packages (from torch) (2.11.2)\n",
      "Requirement already satisfied: filelock in c:\\users\\nahar\\anaconda3\\lib\\site-packages (from torch) (3.0.12)\n",
      "Requirement already satisfied: mpmath>=0.19 in c:\\users\\nahar\\anaconda3\\lib\\site-packages (from sympy->torch) (1.1.0)\n",
      "Requirement already satisfied: decorator>=4.3.0 in c:\\users\\nahar\\anaconda3\\lib\\site-packages (from networkx->torch) (4.4.2)\n",
      "Requirement already satisfied: MarkupSafe>=0.23 in c:\\users\\nahar\\anaconda3\\lib\\site-packages (from jinja2->torch) (1.1.1)\n",
      "Installing collected packages: torch\n",
      "Collecting torch\n",
      "  Using cached torch-2.0.1-cp38-cp38-win_amd64.whl (172.4 MB)\n",
      "Requirement already satisfied: filelock in c:\\users\\nahar\\anaconda3\\lib\\site-packages (from torch) (3.0.12)\n",
      "Requirement already satisfied: networkx in c:\\users\\nahar\\anaconda3\\lib\\site-packages (from torch) (2.4)\n",
      "Requirement already satisfied: typing-extensions in c:\\users\\nahar\\anaconda3\\lib\\site-packages (from torch) (3.7.4.2)\n",
      "Requirement already satisfied: jinja2 in c:\\users\\nahar\\anaconda3\\lib\\site-packages (from torch) (2.11.2)\n",
      "Requirement already satisfied: sympy in c:\\users\\nahar\\anaconda3\\lib\\site-packages (from torch) (1.6.1)\n",
      "Requirement already satisfied: decorator>=4.3.0 in c:\\users\\nahar\\anaconda3\\lib\\site-packages (from networkx->torch) (4.4.2)\n",
      "Requirement already satisfied: MarkupSafe>=0.23 in c:\\users\\nahar\\anaconda3\\lib\\site-packages (from jinja2->torch) (1.1.1)\n",
      "Requirement already satisfied: mpmath>=0.19 in c:\\users\\nahar\\anaconda3\\lib\\site-packages (from sympy->torch) (1.1.0)\n",
      "Installing collected packages: torch\n",
      "Successfully installed torch-2.0.1\n"
     ]
    }
   ],
   "source": [
    "## check google collab\n",
    "## pytorch and deep learning uses  gpu to increase the computation power"
   ]
  },
  {
   "cell_type": "code",
   "execution_count": null,
   "metadata": {},
   "outputs": [],
   "source": []
  }
 ],
 "metadata": {
  "kernelspec": {
   "display_name": "Python 3",
   "language": "python",
   "name": "python3"
  },
  "language_info": {
   "codemirror_mode": {
    "name": "ipython",
    "version": 3
   },
   "file_extension": ".py",
   "mimetype": "text/x-python",
   "name": "python",
   "nbconvert_exporter": "python",
   "pygments_lexer": "ipython3",
   "version": "3.8.3"
  }
 },
 "nbformat": 4,
 "nbformat_minor": 4
}
